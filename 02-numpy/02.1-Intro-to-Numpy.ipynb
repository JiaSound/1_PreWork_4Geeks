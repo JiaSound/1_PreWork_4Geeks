{
  "cells": [
    {
      "cell_type": "markdown",
      "id": "bdfbcacc",
      "metadata": {
        "id": "bdfbcacc"
      },
      "source": [
        "![NumPy logo](https://github.com/4GeeksAcademy/machine-learning-prework/blob/main/02-numpy/assets/numpy_logo.png?raw=true)\n",
        "\n",
        "## Introduction to NumPy\n",
        "\n",
        "**NumPy** means **Numerical Python**. It is an open-source library used to perform mathematical tasks with very high efficiency. In addition, it introduces data structures, such as multidimensional arrays, which can be operated on at a high level, without getting too much into the details.\n",
        "\n",
        "Specifically, the keys to this library are:\n",
        "\n",
        "- **Multidimensional arrays**: This library provides an object called `ndarray`, which allows you to store and manipulate large data sets efficiently. Arrays can have any number of dimensions.\n",
        "- **Vectorized operations**: NumPy allows performing mathematical operations on complete arrays without the need for explicit loops in the code, which makes it very fast and efficient.\n",
        "- **Mathematical functions**: NumPy provides a wide range of mathematical functions for working with arrays, including trigonometric functions, statistics, and linear algebra, among others.\n",
        "- **Efficiency**: It is much faster than the same functionality implemented directly on native Python. It is also very flexible in terms of accessing and manipulating individual elements or subsets of arrays.\n",
        "\n",
        "NumPy is a fundamental library for Machine Learning and data science in Python. It provides a wide range of tools and functions to work efficiently with numerical data in the form of arrays and matrices."
      ]
    },
    {
      "cell_type": "markdown",
      "id": "dc410026",
      "metadata": {
        "id": "dc410026"
      },
      "source": [
        "### Arrays\n",
        "\n",
        "A NumPy **array** is a data structure that allows you to store a collection of elements, usually numbers, in one or more dimensions.\n",
        "\n",
        "#### One-dimensional Array\n",
        "\n",
        "A one-dimensional (1D) array in NumPy is a data structure that contains a sequence of elements in a single dimension. It is similar to a list in Python, but with the performance and functionality advantages offered by NumPy.\n",
        "\n",
        "![One dimensional array](https://github.com/4GeeksAcademy/machine-learning-prework/blob/main/02-numpy/assets/1D.png?raw=true \"1D\")\n",
        "\n",
        "A 1D array can be created using the `array` function of the library with a list of elements as an argument. For example:"
      ]
    },
    {
      "cell_type": "code",
      "execution_count": null,
      "id": "d8a0686b",
      "metadata": {
        "id": "d8a0686b",
        "outputId": "e47ad7a7-4163-40fa-d1f5-a6352492a1e5"
      },
      "outputs": [
        {
          "data": {
            "text/plain": [
              "array([1, 2, 3, 4, 5])"
            ]
          },
          "execution_count": 6,
          "metadata": {},
          "output_type": "execute_result"
        }
      ],
      "source": [
        "import numpy as np\n",
        "\n",
        "array = np.array([1, 2, 3, 4, 5])\n",
        "array"
      ]
    },
    {
      "cell_type": "markdown",
      "id": "e090f7a0",
      "metadata": {
        "id": "e090f7a0"
      },
      "source": [
        "This will create a 1D array with elements 1, 2, 3, 4 and 5. The array elements must be of the same data type. If the elements are of different types, NumPy will try to convert them to the same type if possible.\n",
        "\n",
        "In a 1D array, we can access the elements using **indexes**, modify them and perform mathematical operations on the whole array efficiently. Below are some operations that can be performed using the above array:"
      ]
    },
    {
      "cell_type": "code",
      "execution_count": null,
      "id": "a56cb1b0",
      "metadata": {
        "id": "a56cb1b0",
        "outputId": "6234100f-0208-481b-ef94-96883ccba1f4"
      },
      "outputs": [
        {
          "name": "stdout",
          "output_type": "stream",
          "text": [
            "3\n",
            "[1 7 3 4 5]\n",
            "[11 17 13 14 15]\n",
            "70\n"
          ]
        }
      ],
      "source": [
        "# Access the third element\n",
        "print(array[2])\n",
        "\n",
        "# Change the value of the second element\n",
        "array[1] = 7\n",
        "print(array)\n",
        "\n",
        "# Add 10 to all elements\n",
        "array += 10\n",
        "print(array)\n",
        "\n",
        "# Calculate the sum of the elements\n",
        "sum_all = np.sum(array)\n",
        "print(sum_all)"
      ]
    },
    {
      "cell_type": "markdown",
      "id": "322771b1",
      "metadata": {
        "id": "322771b1"
      },
      "source": [
        "#### N-dimensional Array\n",
        "\n",
        "A multidimensional or n-dimensional array in NumPy is a data structure that organizes elements in multiple dimensions (axes). These arrays allow you to represent more complex data structures, such as matrixes (2D array, 2 axes), tensors (3D array, 3 axes) and higher-dimensional structures.\n",
        "\n",
        "![Arrays of different dimensions](https://github.com/4GeeksAcademy/machine-learning-prework/blob/main/02-numpy/assets/3D.png?raw=true \"3D\")\n",
        "\n",
        "An N-dimensional array can also be created using the `array` function of the library. For example, if we want to create a 2D array:"
      ]
    },
    {
      "cell_type": "code",
      "execution_count": null,
      "id": "2033ba3c",
      "metadata": {
        "id": "2033ba3c",
        "outputId": "6514d50a-27af-4424-eda2-42c575c07f4a"
      },
      "outputs": [
        {
          "data": {
            "text/plain": [
              "array([[1, 2, 3],\n",
              "       [4, 5, 6],\n",
              "       [7, 8, 9]])"
            ]
          },
          "execution_count": 3,
          "metadata": {},
          "output_type": "execute_result"
        }
      ],
      "source": [
        "array_2d = np.array([[1, 2, 3], [4, 5, 6], [7, 8, 9]])\n",
        "array_2d"
      ]
    },
    {
      "cell_type": "markdown",
      "id": "d3dac6c2",
      "metadata": {
        "id": "d3dac6c2"
      },
      "source": [
        "If we now wanted to create a 3D array, we would have to think of it as a list of arrays:"
      ]
    },
    {
      "cell_type": "code",
      "execution_count": null,
      "id": "bc914841",
      "metadata": {
        "id": "bc914841",
        "outputId": "89f1dda7-df08-4a66-a0ca-2ff0f4a4e18d"
      },
      "outputs": [
        {
          "data": {
            "text/plain": [
              "array([[[1, 2],\n",
              "        [3, 4]],\n",
              "\n",
              "       [[5, 6],\n",
              "        [7, 8]]])"
            ]
          },
          "execution_count": 4,
          "metadata": {},
          "output_type": "execute_result"
        }
      ],
      "source": [
        "array_3d = np.array([[[1, 2], [3, 4]], [[5, 6], [7, 8]]])\n",
        "array_3d"
      ]
    },
    {
      "cell_type": "markdown",
      "id": "da7bcb64",
      "metadata": {
        "id": "da7bcb64"
      },
      "source": [
        "As with 1D arrays, the elements in a multidimensional array are accessible via indexes, operations can be performed on them, and so on.\n",
        "\n",
        "As we add more dimensions, the basic principle remains the same: each additional dimension can be considered an additional level of nesting. However, on a practical level, working with arrays of more than 3 or 4 dimensions can become more complex and less intuitive.\n",
        "\n",
        "The n-dimensional arrays in NumPy allow great flexibility and power to represent and manipulate data in more complex ways, especially useful in fields such as data science, image processing and deep learning."
      ]
    },
    {
      "cell_type": "markdown",
      "id": "d699ac98",
      "metadata": {
        "id": "d699ac98"
      },
      "source": [
        "### Functions\n",
        "\n",
        "NumPy provides a large number of predefined functions that can be applied directly to the data structures seen above or to Python's own data structures (lists, arrays, etc.). Some of the most commonly used in data analysis are:"
      ]
    },
    {
      "cell_type": "code",
      "execution_count": null,
      "id": "e7680306",
      "metadata": {
        "id": "e7680306",
        "outputId": "8f6c75b7-a303-4c54-d113-934cffdb57dc"
      },
      "outputs": [
        {
          "name": "stdout",
          "output_type": "stream",
          "text": [
            "Sum: [ 6  7  8  9 10]\n",
            "Product: [ 3  6  9 12 15]\n",
            "Natural logarithm: [0.         0.69314718 1.09861229 1.38629436 1.60943791]\n",
            "Exponential: [  2.71828183   7.3890561   20.08553692  54.59815003 148.4131591 ]\n",
            "Mean: 3.0\n",
            "Median: 3.0\n",
            "Standard Deviation: 1.4142135623730951\n",
            "Variance: 2.0\n",
            "Maximum value: 5\n",
            "Maximum value index: 4\n",
            "Minimum value: 1\n",
            "Minimum value index: 0\n",
            "Sum of all elements: 15\n",
            "Rounding: [1. 2. 4. 5.]\n",
            "Minor integer (floor): [1. 2. 3. 4.]\n",
            "Major integer (ceil): [2. 3. 4. 5.]\n"
          ]
        }
      ],
      "source": [
        "import numpy as np\n",
        "\n",
        "# Create an array for the example\n",
        "arr = np.array([1, 2, 3, 4, 5])\n",
        "\n",
        "# Arithmetic Operations\n",
        "print(\"Sum:\", np.add(arr, 5))\n",
        "print(\"Product:\", np.multiply(arr, 3))\n",
        "\n",
        "# Logarithmic and Exponential\n",
        "print(\"Natural logarithm:\", np.log(arr))\n",
        "print(\"Exponential:\", np.exp(arr))\n",
        "\n",
        "# Statistical Functions\n",
        "print(\"Mean:\", np.mean(arr))\n",
        "print(\"Median:\", np.median(arr))\n",
        "print(\"Standard Deviation:\", np.std(arr))\n",
        "print(\"Variance:\", np.var(arr))\n",
        "print(\"Maximum value:\", np.max(arr))\n",
        "print(\"Maximum value index:\", np.argmax(arr))\n",
        "print(\"Minimum value:\", np.min(arr))\n",
        "print(\"Minimum value index:\", np.argmin(arr))\n",
        "print(\"Sum of all elements:\", np.sum(arr))\n",
        "\n",
        "# Rounding Functions\n",
        "arr_decimal = np.array([1.23, 2.47, 3.56, 4.89])\n",
        "print(\"Rounding:\", np.around(arr_decimal))\n",
        "print(\"Minor integer (floor):\", np.floor(arr_decimal))\n",
        "print(\"Major integer (ceil):\", np.ceil(arr_decimal))"
      ]
    },
    {
      "cell_type": "markdown",
      "id": "51b5cda3",
      "metadata": {
        "id": "51b5cda3"
      },
      "source": [
        "## Exercises: Click on \"open in colab\" to start practicing\n",
        "\n",
        "> Solution: https://github.com/4GeeksAcademy/machine-learning-prework/blob/main/02-numpy/02.1-Intro-to-Numpy_solutions.ipynb\n",
        "\n",
        "### Array creation"
      ]
    },
    {
      "cell_type": "markdown",
      "id": "e3c20b3d",
      "metadata": {
        "id": "e3c20b3d"
      },
      "source": [
        "#### Exercise 01: Create a **null vector** that contains 10 elements (★☆☆)\n",
        "\n",
        "A null vector is a one-dimensional array composed of zeros (`0`).\n",
        "\n",
        "> NOTE: Check the function `np.zeros` (https://numpy.org/doc/stable/reference/generated/numpy.zeros.html)"
      ]
    },
    {
      "cell_type": "code",
      "execution_count": 14,
      "id": "8a758bcf",
      "metadata": {
        "id": "8a758bcf",
        "outputId": "977f8f7e-931a-42b4-9747-b4ea1c8c60a4",
        "colab": {
          "base_uri": "https://localhost:8080/"
        }
      },
      "outputs": [
        {
          "output_type": "stream",
          "name": "stdout",
          "text": [
            "[0. 0. 0. 0. 0. 0. 0. 0. 0. 0.]\n"
          ]
        }
      ],
      "source": [
        "import numpy as np\n",
        "zeros=np.zeros(10)\n",
        "print (zeros)"
      ]
    },
    {
      "cell_type": "markdown",
      "id": "6cbe7954",
      "metadata": {
        "id": "6cbe7954"
      },
      "source": [
        "#### Exercise 02: Create a vector of ones with 10 elements (★☆☆)\n",
        "\n",
        "> NOTE: Check the function `np.ones` (https://numpy.org/doc/stable/reference/generated/numpy.ones.html)"
      ]
    },
    {
      "cell_type": "code",
      "execution_count": 3,
      "id": "86477874",
      "metadata": {
        "id": "86477874",
        "outputId": "2ce0073c-6df4-4a29-cddf-2282abc54da9",
        "colab": {
          "base_uri": "https://localhost:8080/"
        }
      },
      "outputs": [
        {
          "output_type": "stream",
          "name": "stdout",
          "text": [
            "[1. 1. 1. 1. 1. 1. 1. 1. 1. 1.]\n"
          ]
        }
      ],
      "source": [
        "import numpy as np\n",
        "ones=np.ones(10)\n",
        "print (ones)"
      ]
    },
    {
      "cell_type": "markdown",
      "id": "0a708990",
      "metadata": {
        "id": "0a708990"
      },
      "source": [
        "#### Exercise 03: Investigate the `linspace` function of NumPy and create an array with 10 elements (★☆☆)\n",
        "\n",
        "> NOTE: Check the function `np.linspace` (https://numpy.org/doc/stable/reference/generated/numpy.linspace.html)"
      ]
    },
    {
      "cell_type": "code",
      "execution_count": 18,
      "id": "477e01f4",
      "metadata": {
        "id": "477e01f4",
        "outputId": "4f61147d-4bba-4c18-b72d-f5d22d28d44e",
        "colab": {
          "base_uri": "https://localhost:8080/"
        }
      },
      "outputs": [
        {
          "output_type": "stream",
          "name": "stdout",
          "text": [
            "[ 1.  2.  3.  4.  5.  6.  7.  8.  9. 10.]\n"
          ]
        }
      ],
      "source": [
        "import numpy as np\n",
        "sequence=np.linspace(1, 10, num=10)\n",
        "print(sequence)"
      ]
    },
    {
      "cell_type": "markdown",
      "id": "9794fe71",
      "metadata": {
        "id": "9794fe71"
      },
      "source": [
        "#### Exercise 04: Find several ways to generate an array with random numbers and create a 1D array and two 2D arrays (★★☆)\n",
        "\n",
        "> NOTE: Check the functions `np.random.rand` (https://numpy.org/doc/stable/reference/random/generated/numpy.random.rand.html), `np.random.randint` (https://numpy.org/doc/stable/reference/random/generated/numpy.random.randint.html) and `np.random.randn` (https://numpy.org/doc/stable/reference/random/generated/numpy.random.randn.html)"
      ]
    },
    {
      "cell_type": "code",
      "execution_count": 10,
      "id": "3d9a48a7",
      "metadata": {
        "id": "3d9a48a7",
        "outputId": "0eb913ca-a2ce-4624-e59e-eb5d7c6794d8",
        "colab": {
          "base_uri": "https://localhost:8080/"
        }
      },
      "outputs": [
        {
          "output_type": "stream",
          "name": "stdout",
          "text": [
            "1D - np.random.rand()\n",
            "\n",
            " [0.33156157 0.37798946 0.99226638 0.83468123 0.2573576 ]\n",
            "\n",
            "\n",
            "2D - np.random.rand()\n",
            "\n",
            " [[0.75874486 0.95978397 0.09573374 0.77388875]\n",
            " [0.51292208 0.64512439 0.34345797 0.90862011]\n",
            " [0.40595113 0.6790185  0.73658923 0.54961506]\n",
            " [0.44869902 0.34166727 0.89953057 0.44519994]\n",
            " [0.30387086 0.13725911 0.29748658 0.15283236]]\n",
            "\n",
            "\n",
            "1D - np.random.randint()\n",
            "\n",
            " [4 7 8 5 2]\n",
            "\n",
            "\n",
            "2D - np.random.randint()\n",
            "\n",
            " [[3 1 1 1]\n",
            " [1 6 5 2]\n",
            " [6 7 3 8]\n",
            " [7 9 8 3]\n",
            " [6 9 3 8]]\n",
            "\n",
            "\n",
            "1D - np.random.randn()\n",
            "\n",
            " [ 0.94603464 -0.83829189  3.39651892  1.4860537 ]\n",
            "\n",
            "\n",
            "2D - np.random.randn()\n",
            "\n",
            " [[ 0.0491366  -1.10487842 -1.64354236 -0.39332459 -0.47930725]\n",
            " [ 0.464603    0.32331559 -0.23156253 -0.24737164 -0.71141976]\n",
            " [ 0.62569184 -0.4055843  -0.13891706 -0.06536445 -0.74053203]\n",
            " [-1.09692923 -0.41956527  1.38232854  0.25458935 -1.09143588]]\n"
          ]
        }
      ],
      "source": [
        "import numpy as np\n",
        "sample1=np.random.rand(5)\n",
        "sample1_2=np.random.rand(5,4)\n",
        "print(\"\"\"1D - np.random.rand()\n",
        "\n",
        "\"\"\", sample1)\n",
        "\n",
        "print(\"\"\"\n",
        "\n",
        "2D - np.random.rand()\n",
        "\n",
        "\"\"\", sample1_2)\n",
        "\n",
        "sample2=np.random.randint(1, 10, size=(5))\n",
        "sample2_2=np.random.randint(1, 10, size=(5,4))\n",
        "\n",
        "print(\"\"\"\n",
        "\n",
        "1D - np.random.randint()\n",
        "\n",
        "\"\"\", sample2)\n",
        "\n",
        "print(\"\"\"\n",
        "\n",
        "2D - np.random.randint()\n",
        "\n",
        "\"\"\", sample2_2)\n",
        "\n",
        "\n",
        "sample3=np.random.randn(4)\n",
        "sample3_2=np.random.randn(4, 5)\n",
        "\n",
        "\n",
        "print(\"\"\"\n",
        "\n",
        "1D - np.random.randn()\n",
        "\n",
        "\"\"\", sample3)\n",
        "\n",
        "print(\"\"\"\n",
        "\n",
        "2D - np.random.randn()\n",
        "\n",
        "\"\"\", sample3_2)"
      ]
    },
    {
      "cell_type": "markdown",
      "id": "78a37e5c",
      "metadata": {
        "id": "78a37e5c"
      },
      "source": [
        "#### Exercise 05: Create a 5x5 identity matrix (2D array) (★☆☆)\n",
        "\n",
        "\n",
        "> NOTE: Check the function `np.eye`(https://numpy.org/devdocs/reference/generated/numpy.eye.html)"
      ]
    },
    {
      "cell_type": "code",
      "execution_count": 23,
      "id": "a6751106",
      "metadata": {
        "id": "a6751106",
        "outputId": "ce6ec0a8-bd8d-4b71-d781-fe2e21e165fe",
        "colab": {
          "base_uri": "https://localhost:8080/"
        }
      },
      "outputs": [
        {
          "output_type": "stream",
          "name": "stdout",
          "text": [
            "[[1. 0. 0. 0. 0.]\n",
            " [0. 1. 0. 0. 0.]\n",
            " [0. 0. 1. 0. 0.]\n",
            " [0. 0. 0. 1. 0.]\n",
            " [0. 0. 0. 0. 1.]]\n"
          ]
        }
      ],
      "source": [
        "import numpy as np\n",
        "iden=np.eye(5,5)\n",
        "print(iden)"
      ]
    },
    {
      "cell_type": "markdown",
      "id": "08bb63e6",
      "metadata": {
        "id": "08bb63e6"
      },
      "source": [
        "#### Exercise 06: Create a 3x2 random number matrix and calculate the minimum and maximum value (★☆☆)\n",
        "\n",
        "> NOTE: Check the functions `np.min` (https://numpy.org/devdocs/reference/generated/numpy.min.html) and `np.max` (https://numpy.org/devdocs/reference/generated/numpy.max.html)"
      ]
    },
    {
      "cell_type": "code",
      "execution_count": 25,
      "id": "3214cca1",
      "metadata": {
        "id": "3214cca1",
        "outputId": "b3f72c5e-5259-4a1b-8fb6-827ebc34de41",
        "colab": {
          "base_uri": "https://localhost:8080/"
        }
      },
      "outputs": [
        {
          "output_type": "stream",
          "name": "stdout",
          "text": [
            "[[453 677]\n",
            " [750 633]\n",
            " [740 661]] \n",
            "\n",
            "\n",
            "750\n"
          ]
        }
      ],
      "source": [
        "import numpy as np\n",
        "\n",
        "arr=np.random.randint(1,1000,size=(3,2))\n",
        "max=np.max(arr)\n",
        "print(arr,\"\"\"\n",
        "\n",
        "\"\"\")\n",
        "print(max)"
      ]
    },
    {
      "cell_type": "markdown",
      "id": "57c6c275",
      "metadata": {
        "id": "57c6c275"
      },
      "source": [
        "#### Exercise 07: Create a vector of 30 elements that are random numbers and calculate the mean. (★☆☆)\n",
        "\n",
        "> NOTE: Check the function `np.mean` (https://numpy.org/doc/stable/reference/generated/numpy.mean.html)"
      ]
    },
    {
      "cell_type": "code",
      "execution_count": 37,
      "id": "cc960ba5",
      "metadata": {
        "id": "cc960ba5",
        "outputId": "cc2aa105-a1cc-463c-e34e-301fa9921cc8",
        "colab": {
          "base_uri": "https://localhost:8080/"
        }
      },
      "outputs": [
        {
          "output_type": "stream",
          "name": "stdout",
          "text": [
            "Original Array:\n",
            " \n",
            " [170 540 752 355 539 866 694 302 179   1 459 477 882 311 714 469 638 238\n",
            " 386 709 786 355 888 655 116 505 565 868 382 226] \n",
            "\n",
            "\n",
            "Mean-  500.9\n"
          ]
        }
      ],
      "source": [
        "import numpy as np\n",
        "\n",
        "arr=np.random.randint(1,1000,size=(30))\n",
        "mean=np.mean(arr)\n",
        "\n",
        "print(\"\"\"Original Array:\n",
        "\n",
        "\"\"\", arr,\"\"\"\n",
        "\n",
        "\"\"\")\n",
        "print(\"Mean- \",mean)"
      ]
    },
    {
      "cell_type": "markdown",
      "id": "2c801667",
      "metadata": {
        "id": "2c801667"
      },
      "source": [
        "#### Exercise 08: Converts the list `[1, 2, 3]` and the tuple `(1, 2, 3)` to arrays (★☆☆)"
      ]
    },
    {
      "cell_type": "code",
      "execution_count": 31,
      "id": "3f36c71c",
      "metadata": {
        "colab": {
          "base_uri": "https://localhost:8080/"
        },
        "id": "3f36c71c",
        "outputId": "696218be-b809-46fa-cc9a-a043424fe90a"
      },
      "outputs": [
        {
          "output_type": "stream",
          "name": "stdout",
          "text": [
            "list to array: [1 2 3]\n",
            "      \n",
            "\n",
            "tuple to array: [1 2 3]\n",
            "      \n",
            "      \n"
          ]
        }
      ],
      "source": [
        "import numpy as np\n",
        "\n",
        "listt=[1,2,3]\n",
        "tuplee=(1,2,3)\n",
        "\n",
        "array1=np.array(listt)\n",
        "\n",
        "array2=np.array(tuplee)\n",
        "\n",
        "\n",
        "print(f\"\"\"list to array: {array1}\n",
        "      \"\"\")\n",
        "print(f\"\"\"\n",
        "tuple to array: {array2}\n",
        "\n",
        "      \"\"\")"
      ]
    },
    {
      "cell_type": "markdown",
      "id": "962bb9fc",
      "metadata": {
        "id": "962bb9fc"
      },
      "source": [
        "### Operations between arrays"
      ]
    },
    {
      "cell_type": "markdown",
      "id": "48d48f01",
      "metadata": {
        "id": "48d48f01"
      },
      "source": [
        "#### Exercise 09: Invert the vector of the previous exercise (★☆☆)\n",
        "\n",
        "> NOTE: Check the function `np.flip` (https://numpy.org/doc/stable/reference/generated/numpy.flip.html)"
      ]
    },
    {
      "cell_type": "code",
      "execution_count": 33,
      "id": "d3e13052",
      "metadata": {
        "id": "d3e13052",
        "outputId": "d7cc314c-c751-4f7b-fe84-33c00b6cc555",
        "colab": {
          "base_uri": "https://localhost:8080/"
        }
      },
      "outputs": [
        {
          "output_type": "stream",
          "name": "stdout",
          "text": [
            "array 1 flipped: [3 2 1]\n",
            "      \n",
            "\n",
            "array 2 flipped [3 2 1]\n",
            "      \n",
            "      \n"
          ]
        }
      ],
      "source": [
        "listt=[1,2,3]\n",
        "tuplee=(1,2,3)\n",
        "\n",
        "array1=np.array(listt)\n",
        "array2=np.array(tuplee)\n",
        "\n",
        "array1=np.flip(array1)\n",
        "array2=np.flip(array2)\n",
        "\n",
        "\n",
        "print(f\"\"\"array 1 flipped: {array1}\n",
        "      \"\"\")\n",
        "print(f\"\"\"\n",
        "array 2 flipped {array2}\n",
        "\n",
        "      \"\"\")"
      ]
    },
    {
      "cell_type": "markdown",
      "id": "233addce",
      "metadata": {
        "id": "233addce"
      },
      "source": [
        "#### Exercise 10: Change the size of a random array of dimensions 5x12 into 12x5 (★☆☆)\n",
        "\n",
        "> NOTE: Check the function `np.reshape` (https://numpy.org/doc/stable/reference/generated/numpy.reshape.html)"
      ]
    },
    {
      "cell_type": "code",
      "execution_count": 39,
      "id": "bfaed09f",
      "metadata": {
        "id": "bfaed09f",
        "outputId": "e97a21fb-5b54-4fd2-995b-cca5f65edd4e",
        "colab": {
          "base_uri": "https://localhost:8080/"
        }
      },
      "outputs": [
        {
          "output_type": "stream",
          "name": "stdout",
          "text": [
            "Original Array:\n",
            "[[297 294 669  77 873 690 564 807 191 641 483 433]\n",
            " [  7 164 141 136 863 365  90   9 510 270 995 339]\n",
            " [568 723 648 173 695 529 958 460 320 553 811 953]\n",
            " [862  19 313 673 389 853 748 741  77 968 142 292]\n",
            " [384 444 327 587 799 870 900 350  85 751  80 284]]\n",
            "\n",
            "New Shape:\n",
            "[[297 294 669  77 873]\n",
            " [690 564 807 191 641]\n",
            " [483 433   7 164 141]\n",
            " [136 863 365  90   9]\n",
            " [510 270 995 339 568]\n",
            " [723 648 173 695 529]\n",
            " [958 460 320 553 811]\n",
            " [953 862  19 313 673]\n",
            " [389 853 748 741  77]\n",
            " [968 142 292 384 444]\n",
            " [327 587 799 870 900]\n",
            " [350  85 751  80 284]]\n",
            "\n"
          ]
        }
      ],
      "source": [
        "import numpy as np\n",
        "\n",
        "arr=np.random.randint(1,1000,size=(5,12))\n",
        "newshape=np.reshape(arr, (12,5))\n",
        "\n",
        "print(f\"\"\"Original Array:\n",
        "{arr}\n",
        "\n",
        "New Shape:\n",
        "{newshape}\n",
        "\"\"\"\n",
        ")"
      ]
    },
    {
      "cell_type": "markdown",
      "id": "645e5381",
      "metadata": {
        "id": "645e5381"
      },
      "source": [
        "#### Exercise 11: Convert the list `[1, 2, 0, 0, 0, 4, 0]` into an array and get the index of the non-zero elements (★★☆)\n",
        "\n",
        "> NOTE: Check the function `np.where` (https://numpy.org/devdocs/reference/generated/numpy.where.html)"
      ]
    },
    {
      "cell_type": "code",
      "execution_count": 3,
      "id": "b2652fee",
      "metadata": {
        "id": "b2652fee",
        "outputId": "a00125fa-e18d-46d0-84d6-644663692b0e",
        "colab": {
          "base_uri": "https://localhost:8080/"
        }
      },
      "outputs": [
        {
          "output_type": "stream",
          "name": "stdout",
          "text": [
            "(array([2, 3, 4, 6]),)\n"
          ]
        }
      ],
      "source": [
        "import numpy as np\n",
        "\n",
        "og_list=[1, 2, 0, 0, 0, 4, 0]\n",
        "\n",
        "arr=np.array(og_list)\n",
        "\n",
        "index_list=np.where(arr==0)\n",
        "\n",
        "print(index_list)"
      ]
    },
    {
      "cell_type": "markdown",
      "id": "e7948dbb",
      "metadata": {
        "id": "e7948dbb"
      },
      "source": [
        "#### Exercise 12: Convert the list `[0, 5, -1, 3, 15]` into an array, multiply its values by `-2` and obtain the even elements (★★☆)"
      ]
    },
    {
      "cell_type": "code",
      "execution_count": 14,
      "metadata": {
        "id": "w0MgIVMbFuLS",
        "outputId": "6243d244-d643-4b18-eb29-a998689cbc77",
        "colab": {
          "base_uri": "https://localhost:8080/"
        }
      },
      "outputs": [
        {
          "output_type": "stream",
          "name": "stdout",
          "text": [
            "Array * -2 [  0 -10   2  -6 -30] \n",
            "\n",
            "\n",
            "(array([1, 2, 3, 4]),)\n"
          ]
        }
      ],
      "source": [
        "import numpy as np\n",
        "\n",
        "og_list=[0, 5, -1, 3, 15]\n",
        "arr=np.array(og_list)\n",
        "multi=np.multiply(arr,-2)\n",
        "index_list=np.where(arr/2)\n",
        "\n",
        "print(\"Array * -2\", multi,\"\"\"\n",
        "\n",
        "\"\"\")\n",
        "print(index_list)\n",
        "\n"
      ],
      "id": "w0MgIVMbFuLS"
    },
    {
      "cell_type": "markdown",
      "id": "a90d6f3e",
      "metadata": {
        "id": "a90d6f3e"
      },
      "source": [
        "#### Exercise 13: Create a random vector of 10 elements and\n",
        "\n",
        "*   List item\n",
        "*   List item\n",
        "\n",
        "order it from smallest to largest (★★☆)\n",
        "\n",
        "> NOTE: Check the function `np.sort` (https://numpy.org/doc/stable/reference/generated/numpy.sort.html)"
      ]
    },
    {
      "cell_type": "code",
      "execution_count": 15,
      "id": "bc373a83",
      "metadata": {
        "id": "bc373a83",
        "outputId": "6364b8ed-9e15-4744-a04e-c6b0bfdf77ac",
        "colab": {
          "base_uri": "https://localhost:8080/"
        }
      },
      "outputs": [
        {
          "output_type": "stream",
          "name": "stdout",
          "text": [
            "Original Array - [192  70 811 892 972 523 952 764 650 791]\n",
            "\n",
            "Sorted List - [ 70 192 523 650 764 791 811 892 952 972]      \n",
            "      \n",
            "      \n"
          ]
        }
      ],
      "source": [
        "import numpy as np\n",
        "\n",
        "arr=np.random.randint(1,1000,10)\n",
        "sorted=np.sort(arr)\n",
        "\n",
        "print(f\"\"\"Original Array - {arr}\n",
        "\n",
        "Sorted List - {sorted}\n",
        "\n",
        "      \"\"\")"
      ]
    },
    {
      "cell_type": "markdown",
      "id": "5e9b6115",
      "metadata": {
        "id": "5e9b6115"
      },
      "source": [
        "#### Exercise 14: Generate two random vectors of 8 elements and apply the operations of addition, subtraction and multiplication between them (★★☆)\n",
        "\n",
        "> NOTE: Check the math module functions: https://numpy.org/doc/stable/reference/routines.math.html"
      ]
    },
    {
      "cell_type": "code",
      "execution_count": 19,
      "id": "cc77e421",
      "metadata": {
        "id": "cc77e421",
        "outputId": "320e20a2-7258-4448-da11-1301bd2bb1af",
        "colab": {
          "base_uri": "https://localhost:8080/"
        }
      },
      "outputs": [
        {
          "output_type": "stream",
          "name": "stdout",
          "text": [
            " Array 1: \n",
            "[977 364 474 629 954  27 128 433]\n",
            "\n",
            "Array 2: \n",
            "[605 574 297 777 306 826 138 686]\n",
            "\n",
            "------------------\n",
            "\n",
            "Added together:\n",
            "[1582  938  771 1406 1260  853  266 1119]\n",
            "\n",
            "------------------\n",
            "      \n",
            "Subtracted by eachother:\n",
            "[ 372 -210  177 -148  648 -799  -10 -253]\n",
            "\n",
            "------------------\n",
            "      \n",
            "Multiplied by Eachother:\n",
            "[591085 208936 140778 488733 291924  22302  17664 297038]\n",
            "\n",
            "------------------\n",
            "\n",
            "\n"
          ]
        }
      ],
      "source": [
        "import numpy as np\n",
        "\n",
        "arr1=np.random.randint(1,1000,8)\n",
        "arr2=np.random.randint(1,1000,8)\n",
        "\n",
        "addi=np.add(arr1,arr2)\n",
        "sub=np.subtract(arr1,arr2)\n",
        "multi=np.multiply(arr1,arr2)\n",
        "\n",
        "print(f\"\"\" Array 1:\n",
        "{arr1}\n",
        "\n",
        "Array 2:\n",
        "{arr2}\n",
        "\n",
        "------------------\n",
        "\n",
        "Added together:\n",
        "{addi}\n",
        "\n",
        "------------------\n",
        "\n",
        "Subtracted by eachother:\n",
        "{sub}\n",
        "\n",
        "------------------\n",
        "\n",
        "Multiplied by Eachother:\n",
        "{multi}\n",
        "\n",
        "------------------\n",
        "\n",
        "\"\"\")\n"
      ]
    },
    {
      "cell_type": "markdown",
      "id": "c8e8daa0",
      "metadata": {
        "id": "c8e8daa0"
      },
      "source": [
        "#### Exercise 15: Convert the list `[1, 2, 3, 4, 5, 6, 7, 8, 9, 10, 11, 12]` into an array and transform it into a matrix with rows of 3 columns (★★★)"
      ]
    },
    {
      "cell_type": "code",
      "execution_count": 1,
      "metadata": {
        "id": "aySZMiN6FuLX",
        "outputId": "389a5a0e-5edb-4318-d39f-dac2f2624023",
        "colab": {
          "base_uri": "https://localhost:8080/"
        }
      },
      "outputs": [
        {
          "output_type": "stream",
          "name": "stdout",
          "text": [
            "input a number: 12\n",
            "number of rows: 3\n",
            "OG List\n",
            "[ 1.  2.  3.  4.  5.  6.  7.  8.  9. 10. 11. 12.]\n",
            "array\n",
            "[ 1.  2.  3.  4.  5.  6.  7.  8.  9. 10. 11. 12.]\n",
            "Matrix\n",
            "[[ 1.  2.  3.  4.]\n",
            " [ 5.  6.  7.  8.]\n",
            " [ 9. 10. 11. 12.]]\n"
          ]
        }
      ],
      "source": [
        "import numpy as np\n",
        "\n",
        "#number input\n",
        "number_input=input(\"Input a number: \")\n",
        "safety1=False\n",
        "while safety1 == False:\n",
        "  if number_input.isdigit() == False:\n",
        "    print(\"I need digits\")\n",
        "    number_input=input(\"Input a number: \")\n",
        "  else:\n",
        "    safety1=True\n",
        "    number_input=int(number_input)\n",
        "\n",
        "#mtx row # input\n",
        "mtx_rows=input(\"number of rows: \")\n",
        "safety2=False\n",
        "\n",
        "while safety2 == False:\n",
        "  if mtx_rows.isdigit() == False:\n",
        "    print(\"I need digits\")\n",
        "    mtx_rows=input(\"number of rows: \")\n",
        "  else:\n",
        "    safety2=True\n",
        "    mtx_rows=int(mtx_rows)\n",
        "\n",
        "\n",
        "#list creator, array converter, and mtx converter\n",
        "og_list= np.linspace(1,number_input,num=number_input)\n",
        "print (\"OG List\")\n",
        "print (og_list)\n",
        "\n",
        "array=np.array(og_list)\n",
        "print (\"array\")\n",
        "print (array)\n",
        "\n",
        "column_num=int(number_input/mtx_rows)\n",
        "mtx=np.reshape(array,(mtx_rows,column_num))\n",
        "print(\"Matrix\")\n",
        "print(mtx)\n"
      ],
      "id": "aySZMiN6FuLX"
    }
  ],
  "metadata": {
    "kernelspec": {
      "display_name": "Python 3",
      "language": "python",
      "name": "python3"
    },
    "language_info": {
      "codemirror_mode": {
        "name": "ipython",
        "version": 3
      },
      "file_extension": ".py",
      "mimetype": "text/x-python",
      "name": "python",
      "nbconvert_exporter": "python",
      "pygments_lexer": "ipython3",
      "version": "3.11.4"
    },
    "colab": {
      "provenance": []
    }
  },
  "nbformat": 4,
  "nbformat_minor": 5
}